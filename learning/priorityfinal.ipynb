{
 "cells": [
  {
   "cell_type": "code",
   "execution_count": 1,
   "id": "a598b5f7",
   "metadata": {},
   "outputs": [],
   "source": [
    "#Adapted from https://github.com/jaimeps/adaboost-implementation/blob/master/adaboost.py for AI4SG Final Project\n",
    "#Written by Kevin Lin\n",
    "\n",
    "#Calculates the priority for the given allocation and feedback history\n",
    "#Predicts future priorities using an Adaboost approach trained on given data\n",
    "#Initializes with a nutritional needs matrix extracted from USDA \n",
    "#Nutrional Needs Data: https://www.ers.usda.gov/data-products/food-consumption-and-nutrient-intakes/\n",
    "\n",
    "import pandas as pd\n",
    "import numpy as np\n",
    "from sklearn.tree import DecisionTreeClassifier\n",
    "from sklearn.model_selection import train_test_split\n",
    "from sklearn.datasets import make_hastie_10_2\n",
    "import matplotlib.pyplot as plt"
   ]
  },
  {
   "cell_type": "code",
   "execution_count": 11,
   "id": "6a8165f9",
   "metadata": {},
   "outputs": [],
   "source": [
    "\"\"\" HELPER FUNCTION: GET ERROR RATE =========================================\"\"\"\n",
    "def get_error_rate(pred, Y):\n",
    "    temp = pred != Y\n",
    "    temp = temp*1\n",
    "    return temp.to_numpy().sum() / float(len(Y))\n",
    "\n",
    "\"\"\" HELPER FUNCTION: PRINT ERROR RATE =======================================\"\"\"\n",
    "def print_error_rate(err):\n",
    "    print ('Error rate: Training: %.4f - Test: %.4f' % err)\n",
    "\n",
    "\"\"\" HELPER FUNCTION: GENERIC CLASSIFIER =====================================\"\"\"\n",
    "def generic_clf(Y_train, X_train, Y_test, X_test, clf):\n",
    "    clf.fit(X_train,Y_train)\n",
    "    pred_train = clf.predict(X_train)\n",
    "    pred_test = clf.predict(X_test)\n",
    "    return get_error_rate(pred_train, Y_train), \\\n",
    "           get_error_rate(pred_test, Y_test)\n",
    "    \n",
    "\"\"\" ADABOOST IMPLEMENTATION =================================================\"\"\"\n",
    "def adaboost_clf(Y_train, X_train, Y_test, X_test, M, clf):\n",
    "    n_train, n_test = len(X_train), len(X_test)\n",
    "    # Initialize weights\n",
    "    w = np.ones(n_train) / n_train\n",
    "    pred_train, pred_test = [np.zeros(n_train), np.zeros(n_test)]\n",
    "    \n",
    "    for i in range(M):\n",
    "        # Fit a classifier with the specific weights\n",
    "        clf.fit(X_train, Y_train, sample_weight = w)\n",
    "        pred_train_i = clf.predict(X_train)\n",
    "        pred_test_i = clf.predict(X_test)\n",
    "        # Indicator function\n",
    "        miss = (pred_train_i != Y_train)*1\n",
    "        # Equivalent with 1/-1 to update weights\n",
    "        miss2 = [x if x==1 else -1 for x in miss]\n",
    "        # Error\n",
    "        err_m = np.dot(w,miss) / sum(w)\n",
    "        # Alpha\n",
    "        alpha_m = 0.5 * np.log( (1 - err_m) / float(err_m))\n",
    "        # New weights\n",
    "        w = np.multiply(w, np.exp([float(x) * alpha_m for x in miss2]))\n",
    "        # Add to prediction\n",
    "        pred_train = [sum(x) for x in zip(pred_train, \n",
    "                                          [x * alpha_m for x in pred_train_i])]\n",
    "        pred_test = [sum(x) for x in zip(pred_test, \n",
    "                                         [x * alpha_m for x in pred_test_i])]\n",
    "    \n",
    "    pred_train, pred_test = np.sign(pred_train), np.sign(pred_test)\n",
    "    # Return error rate in train and test set\n",
    "    return get_error_rate(pred_train, Y_train), \\\n",
    "           get_error_rate(pred_test, Y_test)\n",
    "\n",
    "\"\"\" PLOT FUNCTION ===========================================================\"\"\"\n",
    "def plot_error_rate(er_train, er_test):\n",
    "    df_error = pd.DataFrame([er_train, er_test]).T\n",
    "    df_error.columns = ['Training', 'Test']\n",
    "    plot1 = df_error.plot(linewidth = 3, figsize = (8,6),\n",
    "            color = ['lightblue', 'darkblue'], grid = True)\n",
    "    plot1.set_xlabel('Number of iterations', fontsize = 12)\n",
    "    plot1.set_xticklabels(range(0,450,50))\n",
    "    plot1.set_ylabel('Error rate', fontsize = 12)\n",
    "    plot1.set_title('Error rate vs number of iterations', fontsize = 16)\n",
    "    plt.axhline(y=er_test[0], linewidth=1, color = 'red', ls = 'dashed')"
   ]
  },
  {
   "cell_type": "code",
   "execution_count": 12,
   "id": "c052221b",
   "metadata": {},
   "outputs": [],
   "source": [
    "\"\"\" MAIN SCRIPT =============================================================\"\"\"\n",
    "\n",
    "#Read Data\n",
    "df_allocation_history = pd.read_csv(\"./Data/allocation_history.csv\")\n",
    "df_feedback_history = pd.read_csv(\"./Data/feedback_history.csv\")\n",
    "df_initial_priority = pd.read_csv(\"./Data/nutritional_needs.csv\")\n",
    "\n",
    "#Cleaning Data \n",
    "df_allocation_history = df_allocation_history.iloc[:,:20]\n",
    "df_feedback_history = df_feedback_history.iloc[3::4,:]\n",
    "df_feedback_history = df_feedback_history.fillna(0)\n",
    "df_feedback_history = df_feedback_history.drop(columns=['Rating'])\n",
    "df_feedback_history = df_feedback_history.iloc[1:,1:].sub(df_feedback_history.mean(axis=1), axis=0)\n",
    "df_feedback_history = df_feedback_history.fillna(0)\n",
    "nutritional_needs = df_initial_priority.iloc[:10,:]\n",
    "\n",
    "#Set Time and User/Item Parameters\n",
    "days = 7\n",
    "users = 10\n",
    "df_priority = df_initial_priority\n",
    "for i in range(days):\n",
    "    for j in range(users):\n",
    "        if i == 0 & j ==0:\n",
    "            break\n",
    "        else: \n",
    "            unnorm = df_priority.iloc[(i-1)*10+j,1:] + nutritional_needs.iloc[j,1:] - df_allocation_history.iloc[(i-1)*10+j,1:] - df_feedback_history.iloc[(i-1)*10+j,1:]\n",
    "            unnorm = unnorm.fillna(0)\n",
    "            unnorm[unnorm<0]=0\n",
    "            df_priority.iloc[i*10+j,1:] = unnorm/(np.linalg.norm(unnorm))\n",
    "for j in range(users):\n",
    "    df_priority.iloc[j,1:] = df_priority.iloc[j,1:]/(np.linalg.norm(df_priority.iloc[j,1:]))\n",
    "df_priority.to_csv(\"./Data/norm_priority.csv\",index=False)"
   ]
  },
  {
   "cell_type": "code",
   "execution_count": 16,
   "id": "2cbd4e7e",
   "metadata": {},
   "outputs": [
    {
     "name": "stderr",
     "output_type": "stream",
     "text": [
      "<ipython-input-11-bc6e4a78a32b>:59: UserWarning: FixedFormatter should only be used together with FixedLocator\n",
      "  plot1.set_xticklabels(range(0,450,50))\n"
     ]
    },
    {
     "data": {
      "image/png": "[encoded data removed]",
      "text/plain": [
       "<Figure size 576x432 with 1 Axes>"
      ]
     },
     "metadata": {
      "needs_background": "light"
     },
     "output_type": "display_data"
    }
   ],
   "source": [
    "# Split into training and test set\n",
    "df_allocation_priority = pd.read_csv(\"./Data/allocation_priority.csv\")\n",
    "df_adaboost = pd.concat([df_priority, df_allocation_priority], axis = 1)\n",
    "train, test = train_test_split(df_adaboost, test_size = 0.2)\n",
    "X_train, Y_train = train.iloc[:,1:-1], train.iloc[:,-1]\n",
    "X_test, Y_test = test.iloc[:,1:-1], test.iloc[:,-1]\n",
    "Y_train = Y_train.astype(int)\n",
    "Y_test = Y_test.astype(int)\n",
    "#print(Y_test)\n",
    "# Fit a simple decision tree first\n",
    "clf_tree = DecisionTreeClassifier(max_depth = 1, random_state = 1)\n",
    "er_tree = generic_clf(Y_train, X_train, Y_test, X_test, clf_tree)\n",
    "\n",
    "# Fit Adaboost classifier using a decision tree as base estimator\n",
    "# Test with different number of iterations\n",
    "er_train, er_test = [er_tree[0]], [er_tree[1]]\n",
    "x_range = range(10, 30, 10)\n",
    "for i in x_range:    \n",
    "    er_i = adaboost_clf(Y_train, X_train, Y_test, X_test, i, clf_tree)\n",
    "    er_train.append(er_i[0])\n",
    "    er_test.append(er_i[1])\n",
    "\n",
    "# Compare error rate vs number of iterations\n",
    "plot_error_rate(er_train, er_test)"
   ]
  },
  {
   "cell_type": "code",
   "execution_count": null,
   "id": "75a1489e",
   "metadata": {},
   "outputs": [],
   "source": []
  }
 ],
 "metadata": {
  "kernelspec": {
   "display_name": "Python 3",
   "language": "python",
   "name": "python3"
  },
  "language_info": {
   "codemirror_mode": {
    "name": "ipython",
    "version": 3
   },
   "file_extension": ".py",
   "mimetype": "text/x-python",
   "name": "python",
   "nbconvert_exporter": "python",
   "pygments_lexer": "ipython3",
   "version": "3.8.8"
  }
 },
 "nbformat": 4,
 "nbformat_minor": 5
}
