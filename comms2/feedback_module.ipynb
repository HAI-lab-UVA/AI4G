{
  "cells": [
    {
      "cell_type": "code",
      "execution_count": 2,
      "metadata": {
        "id": "2jKjSMZU4pit"
      },
      "outputs": [
        {
          "name": "stdout",
          "output_type": "stream",
          "text": [
            "   userID  itemID  quantity\n",
            "0       0       0         6\n",
            "1       0       1        10\n",
            "2       1       0         4\n",
            "3       1       1         8\n",
            "4       2       0         4\n",
            "5       2       1         6\n",
            "   userID  itemID  rating\n",
            "0       0       0       3\n",
            "1       1       0       2\n",
            "   userID iid_quantity  rating\n",
            "0       0       (0, 6)     3.0\n",
            "2       1       (0, 4)     2.0\n"
          ]
        }
      ],
      "source": [
        "import pandas as pd\n",
        "\n",
        "from feedback_module import Feedback\n",
        "f_obj = Feedback()\n",
        "\n",
        "# combine decision and feedback matrices\n",
        "At = pd.DataFrame( # decision matrix\n",
        "    {'userID': [0, 0, 1, 1, 2, 2],\n",
        "    'itemID': [0, 1, 0, 1, 0, 1],\n",
        "    'quantity': [6, 10, 4, 8, 4, 6]}\n",
        ")\n",
        "\n",
        "# quantity rating feedback matrix\n",
        "RQ = pd.DataFrame(\n",
        "    {'userID': [0, 1],\n",
        "    'itemID': [0, 0],\n",
        "    'rating': [3, 2]}\n",
        ")\n",
        "\n",
        "print (At)\n",
        "print (RQ)\n",
        "\n",
        "allocation_feedback = f_obj.generate_allocation_feedback(At, RQ)\n",
        "\n",
        "print (allocation_feedback)\n"
      ]
    },
    {
      "cell_type": "code",
      "execution_count": 3,
      "metadata": {},
      "outputs": [
        {
          "name": "stdout",
          "output_type": "stream",
          "text": [
            "Empty DataFrame\n",
            "Columns: [userID, iid_quantity, rating_aggregate, rating_history]\n",
            "Index: []\n",
            "   userID iid_quantity  rating_aggregate rating_history\n",
            "0       0       (0, 6)               3.0          [3.0]\n",
            "1       1       (0, 4)               2.0          [2.0]\n"
          ]
        }
      ],
      "source": [
        "print (f_obj.aggregate)\n",
        "f_obj.aggregate_feedback(allocation_feedback)\n",
        "print (f_obj.aggregate)"
      ]
    },
    {
      "cell_type": "code",
      "execution_count": 5,
      "metadata": {},
      "outputs": [
        {
          "name": "stdout",
          "output_type": "stream",
          "text": [
            "   userID iid_quantity  rating_aggregate rating_history\n",
            "0       0       (0, 6)               3.0          [3.0]\n",
            "1       1       (0, 4)               2.0          [2.0]\n",
            "0       2       (0, 4)               2.0          [2.0]\n"
          ]
        }
      ],
      "source": [
        "user_ids = At['userID'].values.tolist()\n",
        "# user similarity matrix\n",
        "f = [ \n",
        "    [1, 0.25, 0.5],\n",
        "    [0.25, 1, 1],\n",
        "    [0.5, 1, 1],\n",
        "]\n",
        "\n",
        "aggregate_df = f_obj.populate_missing_users(user_ids, f)\n",
        "\n",
        "print (aggregate_df)"
      ]
    },
    {
      "cell_type": "code",
      "execution_count": 6,
      "metadata": {},
      "outputs": [
        {
          "name": "stdout",
          "output_type": "stream",
          "text": [
            "user: 0          item: (1, 10)    r_ui = None   est = 2.33   {'was_impossible': False}\n",
            "user: 2          item: (1, 6)     r_ui = None   est = 2.33   {'was_impossible': False}\n",
            "user: 1          item: (1, 8)     r_ui = None   est = 2.33   {'was_impossible': False}\n",
            "   userID  itemID    rating\n",
            "0       0       0  3.000000\n",
            "1       0       1  2.333333\n",
            "2       1       0  2.000000\n",
            "3       1       1  2.333333\n",
            "4       2       0  2.000000\n",
            "5       2       1  2.333333\n"
          ]
        }
      ],
      "source": [
        "# user X item/allocation feedback + predictions\n",
        "RQ_hat = f_obj.generate_predictions(aggregate_df, At, RQ)\n",
        "\n",
        "print (RQ_hat)"
      ]
    }
  ],
  "metadata": {
    "colab": {
      "collapsed_sections": [],
      "name": "[CS 6501 AI for Social Good] Comm 2.ipynb",
      "provenance": []
    },
    "kernelspec": {
      "display_name": "Python 3",
      "name": "python3"
    },
    "language_info": {
      "codemirror_mode": {
        "name": "ipython",
        "version": 3
      },
      "file_extension": ".py",
      "mimetype": "text/x-python",
      "name": "python",
      "nbconvert_exporter": "python",
      "pygments_lexer": "ipython3",
      "version": "3.8.9"
    }
  },
  "nbformat": 4,
  "nbformat_minor": 0
}
